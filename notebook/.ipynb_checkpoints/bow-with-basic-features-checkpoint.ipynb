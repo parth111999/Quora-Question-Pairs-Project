{
 "cells": [
  {
   "cell_type": "code",
   "execution_count": 1,
   "id": "98d9d0fb",
   "metadata": {},
   "outputs": [],
   "source": [
    "import numpy as np\n",
    "import pandas as pd\n",
    "\n",
    "import seaborn as sns\n",
    "import matplotlib.pyplot as plt\n",
    "%matplotlib inline\n",
    "\n",
    "import warnings\n",
    "warnings.filterwarnings('ignore')"
   ]
  },
  {
   "cell_type": "code",
   "execution_count": 3,
   "id": "6b35f8f4",
   "metadata": {},
   "outputs": [],
   "source": [
    "data = pd.read_csv('train.csv')\n",
    "df = data.sample(30000,random_state=11)"
   ]
  },
  {
   "cell_type": "code",
   "execution_count": 4,
   "id": "26fce7ec",
   "metadata": {},
   "outputs": [
    {
     "data": {
      "text/plain": [
       "id              0\n",
       "qid1            0\n",
       "qid2            0\n",
       "question1       0\n",
       "question2       0\n",
       "is_duplicate    0\n",
       "dtype: int64"
      ]
     },
     "execution_count": 4,
     "metadata": {},
     "output_type": "execute_result"
    }
   ],
   "source": [
    "df.isnull().sum()"
   ]
  },
  {
   "cell_type": "code",
   "execution_count": 6,
   "id": "4f3c7bca",
   "metadata": {},
   "outputs": [
    {
     "data": {
      "text/plain": [
       "0"
      ]
     },
     "execution_count": 6,
     "metadata": {},
     "output_type": "execute_result"
    }
   ],
   "source": [
    "df.duplicated().sum()"
   ]
  },
  {
   "cell_type": "code",
   "execution_count": 8,
   "id": "7ac92e83",
   "metadata": {},
   "outputs": [
    {
     "name": "stdout",
     "output_type": "stream",
     "text": [
      "0    18894\n",
      "1    11106\n",
      "Name: is_duplicate, dtype: int64\n",
      "0    62.98\n",
      "1    37.02\n",
      "Name: is_duplicate, dtype: float64\n"
     ]
    },
    {
     "data": {
      "text/plain": [
       "<AxesSubplot: >"
      ]
     },
     "execution_count": 8,
     "metadata": {},
     "output_type": "execute_result"
    },
    {
     "data": {
      "image/png": "[encoded data removed]",
      "text/plain": [
       "<Figure size 640x480 with 1 Axes>"
      ]
     },
     "metadata": {},
     "output_type": "display_data"
    }
   ],
   "source": [
    "# Distribution of duplicate and non-duplicate questions\n",
    "\n",
    "print(df['is_duplicate'].value_counts())\n",
    "print((df['is_duplicate'].value_counts()/df['is_duplicate'].count())*100)\n",
    "df['is_duplicate'].value_counts().plot(kind='bar')"
   ]
  },
  {
   "cell_type": "code",
   "execution_count": 9,
   "id": "1e6fe25e",
   "metadata": {},
   "outputs": [
    {
     "name": "stdout",
     "output_type": "stream",
     "text": [
      "Unique Questions - 55300\n",
      "Repeated Questions - 3494\n"
     ]
    }
   ],
   "source": [
    "# Repeated Question\n",
    "\n",
    "qid = pd.Series(df['question1'].tolist() + df['question2'].tolist())\n",
    "print(f\"Unique Questions - {np.unique(qid).shape[0]}\")\n",
    "x = qid.value_counts()>1\n",
    "print(f\"Repeated Questions - {x[x].shape[0]}\")"
   ]
  },
  {
   "cell_type": "code",
   "execution_count": 10,
   "id": "5c45267e",
   "metadata": {},
   "outputs": [
    {
     "data": {
      "image/png": "[encoded data removed]",
      "text/plain": [
       "<Figure size 640x480 with 1 Axes>"
      ]
     },
     "metadata": {},
     "output_type": "display_data"
    }
   ],
   "source": [
    "plt.hist(qid.value_counts().values,bins = 160)\n",
    "plt.yscale('log')"
   ]
  },
  {
   "cell_type": "code",
   "execution_count": 13,
   "id": "a99745a2",
   "metadata": {},
   "outputs": [
    {
     "data": {
      "text/html": [
       "<div>\n",
       "<style scoped>\n",
       "    .dataframe tbody tr th:only-of-type {\n",
       "        vertical-align: middle;\n",
       "    }\n",
       "\n",
       "    .dataframe tbody tr th {\n",
       "        vertical-align: top;\n",
       "    }\n",
       "\n",
       "    .dataframe thead th {\n",
       "        text-align: right;\n",
       "    }\n",
       "</style>\n",
       "<table border=\"1\" class=\"dataframe\">\n",
       "  <thead>\n",
       "    <tr style=\"text-align: right;\">\n",
       "      <th></th>\n",
       "      <th>id</th>\n",
       "      <th>qid1</th>\n",
       "      <th>qid2</th>\n",
       "      <th>question1</th>\n",
       "      <th>question2</th>\n",
       "      <th>is_duplicate</th>\n",
       "      <th>q1_len</th>\n",
       "      <th>q2_len</th>\n",
       "    </tr>\n",
       "  </thead>\n",
       "  <tbody>\n",
       "    <tr>\n",
       "      <th>10499</th>\n",
       "      <td>10499</td>\n",
       "      <td>20330</td>\n",
       "      <td>20331</td>\n",
       "      <td>What does matrix multiplication do?</td>\n",
       "      <td>Linear Algebra: Why is matrix multiplication d...</td>\n",
       "      <td>0</td>\n",
       "      <td>35</td>\n",
       "      <td>67</td>\n",
       "    </tr>\n",
       "    <tr>\n",
       "      <th>341040</th>\n",
       "      <td>341040</td>\n",
       "      <td>93694</td>\n",
       "      <td>358272</td>\n",
       "      <td>What data science and machine learning career ...</td>\n",
       "      <td>What data science and machine learning career ...</td>\n",
       "      <td>0</td>\n",
       "      <td>80</td>\n",
       "      <td>80</td>\n",
       "    </tr>\n",
       "    <tr>\n",
       "      <th>6794</th>\n",
       "      <td>6794</td>\n",
       "      <td>13296</td>\n",
       "      <td>13297</td>\n",
       "      <td>What is the best way to get back into web appl...</td>\n",
       "      <td>How should I start with the basics of web pene...</td>\n",
       "      <td>0</td>\n",
       "      <td>74</td>\n",
       "      <td>62</td>\n",
       "    </tr>\n",
       "    <tr>\n",
       "      <th>106158</th>\n",
       "      <td>106158</td>\n",
       "      <td>174921</td>\n",
       "      <td>174922</td>\n",
       "      <td>How will Hurricane Matthew's impact on Florida...</td>\n",
       "      <td>Will Hurricane Matthew impact the 2016 preside...</td>\n",
       "      <td>1</td>\n",
       "      <td>130</td>\n",
       "      <td>61</td>\n",
       "    </tr>\n",
       "    <tr>\n",
       "      <th>233220</th>\n",
       "      <td>233220</td>\n",
       "      <td>129190</td>\n",
       "      <td>82461</td>\n",
       "      <td>What is one thing you would never change about...</td>\n",
       "      <td>If there is one thing you could change about y...</td>\n",
       "      <td>0</td>\n",
       "      <td>56</td>\n",
       "      <td>76</td>\n",
       "    </tr>\n",
       "  </tbody>\n",
       "</table>\n",
       "</div>"
      ],
      "text/plain": [
       "            id    qid1    qid2  \\\n",
       "10499    10499   20330   20331   \n",
       "341040  341040   93694  358272   \n",
       "6794      6794   13296   13297   \n",
       "106158  106158  174921  174922   \n",
       "233220  233220  129190   82461   \n",
       "\n",
       "                                                question1  \\\n",
       "10499                 What does matrix multiplication do?   \n",
       "341040  What data science and machine learning career ...   \n",
       "6794    What is the best way to get back into web appl...   \n",
       "106158  How will Hurricane Matthew's impact on Florida...   \n",
       "233220  What is one thing you would never change about...   \n",
       "\n",
       "                                                question2  is_duplicate  \\\n",
       "10499   Linear Algebra: Why is matrix multiplication d...             0   \n",
       "341040  What data science and machine learning career ...             0   \n",
       "6794    How should I start with the basics of web pene...             0   \n",
       "106158  Will Hurricane Matthew impact the 2016 preside...             1   \n",
       "233220  If there is one thing you could change about y...             0   \n",
       "\n",
       "        q1_len  q2_len  \n",
       "10499       35      67  \n",
       "341040      80      80  \n",
       "6794        74      62  \n",
       "106158     130      61  \n",
       "233220      56      76  "
      ]
     },
     "execution_count": 13,
     "metadata": {},
     "output_type": "execute_result"
    }
   ],
   "source": [
    "# Feature Engineering\n",
    "\n",
    "df['q1_len'] = df['question1'].str.len()\n",
    "df['q2_len'] = df['question2'].str.len()\n",
    "\n",
    "df.head()"
   ]
  },
  {
   "cell_type": "code",
   "execution_count": 15,
   "id": "737d6c00",
   "metadata": {},
   "outputs": [
    {
     "data": {
      "text/html": [
       "<div>\n",
       "<style scoped>\n",
       "    .dataframe tbody tr th:only-of-type {\n",
       "        vertical-align: middle;\n",
       "    }\n",
       "\n",
       "    .dataframe tbody tr th {\n",
       "        vertical-align: top;\n",
       "    }\n",
       "\n",
       "    .dataframe thead th {\n",
       "        text-align: right;\n",
       "    }\n",
       "</style>\n",
       "<table border=\"1\" class=\"dataframe\">\n",
       "  <thead>\n",
       "    <tr style=\"text-align: right;\">\n",
       "      <th></th>\n",
       "      <th>id</th>\n",
       "      <th>qid1</th>\n",
       "      <th>qid2</th>\n",
       "      <th>question1</th>\n",
       "      <th>question2</th>\n",
       "      <th>is_duplicate</th>\n",
       "      <th>q1_len</th>\n",
       "      <th>q2_len</th>\n",
       "      <th>q1_num_words</th>\n",
       "      <th>q2_num_words</th>\n",
       "    </tr>\n",
       "  </thead>\n",
       "  <tbody>\n",
       "    <tr>\n",
       "      <th>10499</th>\n",
       "      <td>10499</td>\n",
       "      <td>20330</td>\n",
       "      <td>20331</td>\n",
       "      <td>What does matrix multiplication do?</td>\n",
       "      <td>Linear Algebra: Why is matrix multiplication d...</td>\n",
       "      <td>0</td>\n",
       "      <td>35</td>\n",
       "      <td>67</td>\n",
       "      <td>5</td>\n",
       "      <td>11</td>\n",
       "    </tr>\n",
       "    <tr>\n",
       "      <th>341040</th>\n",
       "      <td>341040</td>\n",
       "      <td>93694</td>\n",
       "      <td>358272</td>\n",
       "      <td>What data science and machine learning career ...</td>\n",
       "      <td>What data science and machine learning career ...</td>\n",
       "      <td>0</td>\n",
       "      <td>80</td>\n",
       "      <td>80</td>\n",
       "      <td>12</td>\n",
       "      <td>12</td>\n",
       "    </tr>\n",
       "    <tr>\n",
       "      <th>6794</th>\n",
       "      <td>6794</td>\n",
       "      <td>13296</td>\n",
       "      <td>13297</td>\n",
       "      <td>What is the best way to get back into web appl...</td>\n",
       "      <td>How should I start with the basics of web pene...</td>\n",
       "      <td>0</td>\n",
       "      <td>74</td>\n",
       "      <td>62</td>\n",
       "      <td>13</td>\n",
       "      <td>11</td>\n",
       "    </tr>\n",
       "    <tr>\n",
       "      <th>106158</th>\n",
       "      <td>106158</td>\n",
       "      <td>174921</td>\n",
       "      <td>174922</td>\n",
       "      <td>How will Hurricane Matthew's impact on Florida...</td>\n",
       "      <td>Will Hurricane Matthew impact the 2016 preside...</td>\n",
       "      <td>1</td>\n",
       "      <td>130</td>\n",
       "      <td>61</td>\n",
       "      <td>18</td>\n",
       "      <td>8</td>\n",
       "    </tr>\n",
       "    <tr>\n",
       "      <th>233220</th>\n",
       "      <td>233220</td>\n",
       "      <td>129190</td>\n",
       "      <td>82461</td>\n",
       "      <td>What is one thing you would never change about...</td>\n",
       "      <td>If there is one thing you could change about y...</td>\n",
       "      <td>0</td>\n",
       "      <td>56</td>\n",
       "      <td>76</td>\n",
       "      <td>10</td>\n",
       "      <td>15</td>\n",
       "    </tr>\n",
       "  </tbody>\n",
       "</table>\n",
       "</div>"
      ],
      "text/plain": [
       "            id    qid1    qid2  \\\n",
       "10499    10499   20330   20331   \n",
       "341040  341040   93694  358272   \n",
       "6794      6794   13296   13297   \n",
       "106158  106158  174921  174922   \n",
       "233220  233220  129190   82461   \n",
       "\n",
       "                                                question1  \\\n",
       "10499                 What does matrix multiplication do?   \n",
       "341040  What data science and machine learning career ...   \n",
       "6794    What is the best way to get back into web appl...   \n",
       "106158  How will Hurricane Matthew's impact on Florida...   \n",
       "233220  What is one thing you would never change about...   \n",
       "\n",
       "                                                question2  is_duplicate  \\\n",
       "10499   Linear Algebra: Why is matrix multiplication d...             0   \n",
       "341040  What data science and machine learning career ...             0   \n",
       "6794    How should I start with the basics of web pene...             0   \n",
       "106158  Will Hurricane Matthew impact the 2016 preside...             1   \n",
       "233220  If there is one thing you could change about y...             0   \n",
       "\n",
       "        q1_len  q2_len  q1_num_words  q2_num_words  \n",
       "10499       35      67             5            11  \n",
       "341040      80      80            12            12  \n",
       "6794        74      62            13            11  \n",
       "106158     130      61            18             8  \n",
       "233220      56      76            10            15  "
      ]
     },
     "execution_count": 15,
     "metadata": {},
     "output_type": "execute_result"
    }
   ],
   "source": [
    "df['q1_num_words'] = df['question1'].apply(lambda row: len(row.split(' ')))\n",
    "df['q2_num_words'] = df['question2'].apply(lambda row: len(row.split(' ')))\n",
    "\n",
    "df.head()"
   ]
  },
  {
   "cell_type": "code",
   "execution_count": 16,
   "id": "422d0b3d",
   "metadata": {},
   "outputs": [],
   "source": [
    "def common_word(row):\n",
    "    w1 = set(map(lambda word: word.lower().strip(), row['question1'].split(\" \")))\n",
    "    w2 = set(map(lambda word: word.lower().strip(), row['question2'].split(\" \")))\n",
    "    return len(w1 & w2)"
   ]
  },
  {
   "cell_type": "code",
   "execution_count": 18,
   "id": "c858e4a7",
   "metadata": {},
   "outputs": [
    {
     "data": {
      "text/html": [
       "<div>\n",
       "<style scoped>\n",
       "    .dataframe tbody tr th:only-of-type {\n",
       "        vertical-align: middle;\n",
       "    }\n",
       "\n",
       "    .dataframe tbody tr th {\n",
       "        vertical-align: top;\n",
       "    }\n",
       "\n",
       "    .dataframe thead th {\n",
       "        text-align: right;\n",
       "    }\n",
       "</style>\n",
       "<table border=\"1\" class=\"dataframe\">\n",
       "  <thead>\n",
       "    <tr style=\"text-align: right;\">\n",
       "      <th></th>\n",
       "      <th>id</th>\n",
       "      <th>qid1</th>\n",
       "      <th>qid2</th>\n",
       "      <th>question1</th>\n",
       "      <th>question2</th>\n",
       "      <th>is_duplicate</th>\n",
       "      <th>q1_len</th>\n",
       "      <th>q2_len</th>\n",
       "      <th>q1_num_words</th>\n",
       "      <th>q2_num_words</th>\n",
       "      <th>common_word</th>\n",
       "    </tr>\n",
       "  </thead>\n",
       "  <tbody>\n",
       "    <tr>\n",
       "      <th>10499</th>\n",
       "      <td>10499</td>\n",
       "      <td>20330</td>\n",
       "      <td>20331</td>\n",
       "      <td>What does matrix multiplication do?</td>\n",
       "      <td>Linear Algebra: Why is matrix multiplication d...</td>\n",
       "      <td>0</td>\n",
       "      <td>35</td>\n",
       "      <td>67</td>\n",
       "      <td>5</td>\n",
       "      <td>11</td>\n",
       "      <td>2</td>\n",
       "    </tr>\n",
       "    <tr>\n",
       "      <th>341040</th>\n",
       "      <td>341040</td>\n",
       "      <td>93694</td>\n",
       "      <td>358272</td>\n",
       "      <td>What data science and machine learning career ...</td>\n",
       "      <td>What data science and machine learning career ...</td>\n",
       "      <td>0</td>\n",
       "      <td>80</td>\n",
       "      <td>80</td>\n",
       "      <td>12</td>\n",
       "      <td>12</td>\n",
       "      <td>11</td>\n",
       "    </tr>\n",
       "    <tr>\n",
       "      <th>6794</th>\n",
       "      <td>6794</td>\n",
       "      <td>13296</td>\n",
       "      <td>13297</td>\n",
       "      <td>What is the best way to get back into web appl...</td>\n",
       "      <td>How should I start with the basics of web pene...</td>\n",
       "      <td>0</td>\n",
       "      <td>74</td>\n",
       "      <td>62</td>\n",
       "      <td>13</td>\n",
       "      <td>11</td>\n",
       "      <td>4</td>\n",
       "    </tr>\n",
       "    <tr>\n",
       "      <th>106158</th>\n",
       "      <td>106158</td>\n",
       "      <td>174921</td>\n",
       "      <td>174922</td>\n",
       "      <td>How will Hurricane Matthew's impact on Florida...</td>\n",
       "      <td>Will Hurricane Matthew impact the 2016 preside...</td>\n",
       "      <td>1</td>\n",
       "      <td>130</td>\n",
       "      <td>61</td>\n",
       "      <td>18</td>\n",
       "      <td>8</td>\n",
       "      <td>7</td>\n",
       "    </tr>\n",
       "    <tr>\n",
       "      <th>233220</th>\n",
       "      <td>233220</td>\n",
       "      <td>129190</td>\n",
       "      <td>82461</td>\n",
       "      <td>What is one thing you would never change about...</td>\n",
       "      <td>If there is one thing you could change about y...</td>\n",
       "      <td>0</td>\n",
       "      <td>56</td>\n",
       "      <td>76</td>\n",
       "      <td>10</td>\n",
       "      <td>15</td>\n",
       "      <td>8</td>\n",
       "    </tr>\n",
       "  </tbody>\n",
       "</table>\n",
       "</div>"
      ],
      "text/plain": [
       "            id    qid1    qid2  \\\n",
       "10499    10499   20330   20331   \n",
       "341040  341040   93694  358272   \n",
       "6794      6794   13296   13297   \n",
       "106158  106158  174921  174922   \n",
       "233220  233220  129190   82461   \n",
       "\n",
       "                                                question1  \\\n",
       "10499                 What does matrix multiplication do?   \n",
       "341040  What data science and machine learning career ...   \n",
       "6794    What is the best way to get back into web appl...   \n",
       "106158  How will Hurricane Matthew's impact on Florida...   \n",
       "233220  What is one thing you would never change about...   \n",
       "\n",
       "                                                question2  is_duplicate  \\\n",
       "10499   Linear Algebra: Why is matrix multiplication d...             0   \n",
       "341040  What data science and machine learning career ...             0   \n",
       "6794    How should I start with the basics of web pene...             0   \n",
       "106158  Will Hurricane Matthew impact the 2016 preside...             1   \n",
       "233220  If there is one thing you could change about y...             0   \n",
       "\n",
       "        q1_len  q2_len  q1_num_words  q2_num_words  common_word  \n",
       "10499       35      67             5            11            2  \n",
       "341040      80      80            12            12           11  \n",
       "6794        74      62            13            11            4  \n",
       "106158     130      61            18             8            7  \n",
       "233220      56      76            10            15            8  "
      ]
     },
     "execution_count": 18,
     "metadata": {},
     "output_type": "execute_result"
    }
   ],
   "source": [
    "df['common_word'] = df.apply(common_word,axis=1)\n",
    "df.head()"
   ]
  },
  {
   "cell_type": "code",
   "execution_count": 20,
   "id": "fa58da84",
   "metadata": {},
   "outputs": [],
   "source": [
    "def total_word(row):\n",
    "    w1 = set(map(lambda word: word.lower().strip(), row['question1'].split(\" \")))\n",
    "    w2 = set(map(lambda word: word.lower().strip(), row['question2'].split(\" \")))\n",
    "    return (len(w1) + len(w2))"
   ]
  },
  {
   "cell_type": "code",
   "execution_count": 21,
   "id": "bad1f81e",
   "metadata": {},
   "outputs": [
    {
     "data": {
      "text/html": [
       "<div>\n",
       "<style scoped>\n",
       "    .dataframe tbody tr th:only-of-type {\n",
       "        vertical-align: middle;\n",
       "    }\n",
       "\n",
       "    .dataframe tbody tr th {\n",
       "        vertical-align: top;\n",
       "    }\n",
       "\n",
       "    .dataframe thead th {\n",
       "        text-align: right;\n",
       "    }\n",
       "</style>\n",
       "<table border=\"1\" class=\"dataframe\">\n",
       "  <thead>\n",
       "    <tr style=\"text-align: right;\">\n",
       "      <th></th>\n",
       "      <th>id</th>\n",
       "      <th>qid1</th>\n",
       "      <th>qid2</th>\n",
       "      <th>question1</th>\n",
       "      <th>question2</th>\n",
       "      <th>is_duplicate</th>\n",
       "      <th>q1_len</th>\n",
       "      <th>q2_len</th>\n",
       "      <th>q1_num_words</th>\n",
       "      <th>q2_num_words</th>\n",
       "      <th>common_word</th>\n",
       "      <th>word_total</th>\n",
       "    </tr>\n",
       "  </thead>\n",
       "  <tbody>\n",
       "    <tr>\n",
       "      <th>10499</th>\n",
       "      <td>10499</td>\n",
       "      <td>20330</td>\n",
       "      <td>20331</td>\n",
       "      <td>What does matrix multiplication do?</td>\n",
       "      <td>Linear Algebra: Why is matrix multiplication d...</td>\n",
       "      <td>0</td>\n",
       "      <td>35</td>\n",
       "      <td>67</td>\n",
       "      <td>5</td>\n",
       "      <td>11</td>\n",
       "      <td>2</td>\n",
       "      <td>16</td>\n",
       "    </tr>\n",
       "    <tr>\n",
       "      <th>341040</th>\n",
       "      <td>341040</td>\n",
       "      <td>93694</td>\n",
       "      <td>358272</td>\n",
       "      <td>What data science and machine learning career ...</td>\n",
       "      <td>What data science and machine learning career ...</td>\n",
       "      <td>0</td>\n",
       "      <td>80</td>\n",
       "      <td>80</td>\n",
       "      <td>12</td>\n",
       "      <td>12</td>\n",
       "      <td>11</td>\n",
       "      <td>24</td>\n",
       "    </tr>\n",
       "    <tr>\n",
       "      <th>6794</th>\n",
       "      <td>6794</td>\n",
       "      <td>13296</td>\n",
       "      <td>13297</td>\n",
       "      <td>What is the best way to get back into web appl...</td>\n",
       "      <td>How should I start with the basics of web pene...</td>\n",
       "      <td>0</td>\n",
       "      <td>74</td>\n",
       "      <td>62</td>\n",
       "      <td>13</td>\n",
       "      <td>11</td>\n",
       "      <td>4</td>\n",
       "      <td>24</td>\n",
       "    </tr>\n",
       "    <tr>\n",
       "      <th>106158</th>\n",
       "      <td>106158</td>\n",
       "      <td>174921</td>\n",
       "      <td>174922</td>\n",
       "      <td>How will Hurricane Matthew's impact on Florida...</td>\n",
       "      <td>Will Hurricane Matthew impact the 2016 preside...</td>\n",
       "      <td>1</td>\n",
       "      <td>130</td>\n",
       "      <td>61</td>\n",
       "      <td>18</td>\n",
       "      <td>8</td>\n",
       "      <td>7</td>\n",
       "      <td>26</td>\n",
       "    </tr>\n",
       "    <tr>\n",
       "      <th>233220</th>\n",
       "      <td>233220</td>\n",
       "      <td>129190</td>\n",
       "      <td>82461</td>\n",
       "      <td>What is one thing you would never change about...</td>\n",
       "      <td>If there is one thing you could change about y...</td>\n",
       "      <td>0</td>\n",
       "      <td>56</td>\n",
       "      <td>76</td>\n",
       "      <td>10</td>\n",
       "      <td>15</td>\n",
       "      <td>8</td>\n",
       "      <td>25</td>\n",
       "    </tr>\n",
       "  </tbody>\n",
       "</table>\n",
       "</div>"
      ],
      "text/plain": [
       "            id    qid1    qid2  \\\n",
       "10499    10499   20330   20331   \n",
       "341040  341040   93694  358272   \n",
       "6794      6794   13296   13297   \n",
       "106158  106158  174921  174922   \n",
       "233220  233220  129190   82461   \n",
       "\n",
       "                                                question1  \\\n",
       "10499                 What does matrix multiplication do?   \n",
       "341040  What data science and machine learning career ...   \n",
       "6794    What is the best way to get back into web appl...   \n",
       "106158  How will Hurricane Matthew's impact on Florida...   \n",
       "233220  What is one thing you would never change about...   \n",
       "\n",
       "                                                question2  is_duplicate  \\\n",
       "10499   Linear Algebra: Why is matrix multiplication d...             0   \n",
       "341040  What data science and machine learning career ...             0   \n",
       "6794    How should I start with the basics of web pene...             0   \n",
       "106158  Will Hurricane Matthew impact the 2016 preside...             1   \n",
       "233220  If there is one thing you could change about y...             0   \n",
       "\n",
       "        q1_len  q2_len  q1_num_words  q2_num_words  common_word  word_total  \n",
       "10499       35      67             5            11            2          16  \n",
       "341040      80      80            12            12           11          24  \n",
       "6794        74      62            13            11            4          24  \n",
       "106158     130      61            18             8            7          26  \n",
       "233220      56      76            10            15            8          25  "
      ]
     },
     "execution_count": 21,
     "metadata": {},
     "output_type": "execute_result"
    }
   ],
   "source": [
    "df['word_total'] = df.apply(total_word,axis = 1)\n",
    "df.head()"
   ]
  },
  {
   "cell_type": "code",
   "execution_count": 22,
   "id": "ddfa6891",
   "metadata": {},
   "outputs": [
    {
     "data": {
      "text/html": [
       "<div>\n",
       "<style scoped>\n",
       "    .dataframe tbody tr th:only-of-type {\n",
       "        vertical-align: middle;\n",
       "    }\n",
       "\n",
       "    .dataframe tbody tr th {\n",
       "        vertical-align: top;\n",
       "    }\n",
       "\n",
       "    .dataframe thead th {\n",
       "        text-align: right;\n",
       "    }\n",
       "</style>\n",
       "<table border=\"1\" class=\"dataframe\">\n",
       "  <thead>\n",
       "    <tr style=\"text-align: right;\">\n",
       "      <th></th>\n",
       "      <th>id</th>\n",
       "      <th>qid1</th>\n",
       "      <th>qid2</th>\n",
       "      <th>question1</th>\n",
       "      <th>question2</th>\n",
       "      <th>is_duplicate</th>\n",
       "      <th>q1_len</th>\n",
       "      <th>q2_len</th>\n",
       "      <th>q1_num_words</th>\n",
       "      <th>q2_num_words</th>\n",
       "      <th>common_word</th>\n",
       "      <th>word_total</th>\n",
       "      <th>word_share</th>\n",
       "    </tr>\n",
       "  </thead>\n",
       "  <tbody>\n",
       "    <tr>\n",
       "      <th>10499</th>\n",
       "      <td>10499</td>\n",
       "      <td>20330</td>\n",
       "      <td>20331</td>\n",
       "      <td>What does matrix multiplication do?</td>\n",
       "      <td>Linear Algebra: Why is matrix multiplication d...</td>\n",
       "      <td>0</td>\n",
       "      <td>35</td>\n",
       "      <td>67</td>\n",
       "      <td>5</td>\n",
       "      <td>11</td>\n",
       "      <td>2</td>\n",
       "      <td>16</td>\n",
       "      <td>0.12</td>\n",
       "    </tr>\n",
       "    <tr>\n",
       "      <th>341040</th>\n",
       "      <td>341040</td>\n",
       "      <td>93694</td>\n",
       "      <td>358272</td>\n",
       "      <td>What data science and machine learning career ...</td>\n",
       "      <td>What data science and machine learning career ...</td>\n",
       "      <td>0</td>\n",
       "      <td>80</td>\n",
       "      <td>80</td>\n",
       "      <td>12</td>\n",
       "      <td>12</td>\n",
       "      <td>11</td>\n",
       "      <td>24</td>\n",
       "      <td>0.46</td>\n",
       "    </tr>\n",
       "    <tr>\n",
       "      <th>6794</th>\n",
       "      <td>6794</td>\n",
       "      <td>13296</td>\n",
       "      <td>13297</td>\n",
       "      <td>What is the best way to get back into web appl...</td>\n",
       "      <td>How should I start with the basics of web pene...</td>\n",
       "      <td>0</td>\n",
       "      <td>74</td>\n",
       "      <td>62</td>\n",
       "      <td>13</td>\n",
       "      <td>11</td>\n",
       "      <td>4</td>\n",
       "      <td>24</td>\n",
       "      <td>0.17</td>\n",
       "    </tr>\n",
       "    <tr>\n",
       "      <th>106158</th>\n",
       "      <td>106158</td>\n",
       "      <td>174921</td>\n",
       "      <td>174922</td>\n",
       "      <td>How will Hurricane Matthew's impact on Florida...</td>\n",
       "      <td>Will Hurricane Matthew impact the 2016 preside...</td>\n",
       "      <td>1</td>\n",
       "      <td>130</td>\n",
       "      <td>61</td>\n",
       "      <td>18</td>\n",
       "      <td>8</td>\n",
       "      <td>7</td>\n",
       "      <td>26</td>\n",
       "      <td>0.27</td>\n",
       "    </tr>\n",
       "    <tr>\n",
       "      <th>233220</th>\n",
       "      <td>233220</td>\n",
       "      <td>129190</td>\n",
       "      <td>82461</td>\n",
       "      <td>What is one thing you would never change about...</td>\n",
       "      <td>If there is one thing you could change about y...</td>\n",
       "      <td>0</td>\n",
       "      <td>56</td>\n",
       "      <td>76</td>\n",
       "      <td>10</td>\n",
       "      <td>15</td>\n",
       "      <td>8</td>\n",
       "      <td>25</td>\n",
       "      <td>0.32</td>\n",
       "    </tr>\n",
       "  </tbody>\n",
       "</table>\n",
       "</div>"
      ],
      "text/plain": [
       "            id    qid1    qid2  \\\n",
       "10499    10499   20330   20331   \n",
       "341040  341040   93694  358272   \n",
       "6794      6794   13296   13297   \n",
       "106158  106158  174921  174922   \n",
       "233220  233220  129190   82461   \n",
       "\n",
       "                                                question1  \\\n",
       "10499                 What does matrix multiplication do?   \n",
       "341040  What data science and machine learning career ...   \n",
       "6794    What is the best way to get back into web appl...   \n",
       "106158  How will Hurricane Matthew's impact on Florida...   \n",
       "233220  What is one thing you would never change about...   \n",
       "\n",
       "                                                question2  is_duplicate  \\\n",
       "10499   Linear Algebra: Why is matrix multiplication d...             0   \n",
       "341040  What data science and machine learning career ...             0   \n",
       "6794    How should I start with the basics of web pene...             0   \n",
       "106158  Will Hurricane Matthew impact the 2016 preside...             1   \n",
       "233220  If there is one thing you could change about y...             0   \n",
       "\n",
       "        q1_len  q2_len  q1_num_words  q2_num_words  common_word  word_total  \\\n",
       "10499       35      67             5            11            2          16   \n",
       "341040      80      80            12            12           11          24   \n",
       "6794        74      62            13            11            4          24   \n",
       "106158     130      61            18             8            7          26   \n",
       "233220      56      76            10            15            8          25   \n",
       "\n",
       "        word_share  \n",
       "10499         0.12  \n",
       "341040        0.46  \n",
       "6794          0.17  \n",
       "106158        0.27  \n",
       "233220        0.32  "
      ]
     },
     "execution_count": 22,
     "metadata": {},
     "output_type": "execute_result"
    }
   ],
   "source": [
    "df['word_share'] = round(df['common_word']/df['word_total'],2)\n",
    "df.head()"
   ]
  },
  {
   "cell_type": "code",
   "execution_count": 27,
   "id": "3598584e",
   "metadata": {},
   "outputs": [
    {
     "name": "stdout",
     "output_type": "stream",
     "text": [
      "Minimum Character - 1\n",
      "Maximum Character - 320\n",
      "Average Character - 59.36\n"
     ]
    },
    {
     "data": {
      "text/plain": [
       "<AxesSubplot: xlabel='q1_len', ylabel='Density'>"
      ]
     },
     "execution_count": 27,
     "metadata": {},
     "output_type": "execute_result"
    },
    {
     "data": {
      "image/png": "[encoded data removed]",
      "text/plain": [
       "<Figure size 640x480 with 1 Axes>"
      ]
     },
     "metadata": {},
     "output_type": "display_data"
    }
   ],
   "source": [
    "print(f\"Minimum Character - {df['q1_len'].min()}\")\n",
    "print(f\"Maximum Character - {df['q1_len'].max()}\")\n",
    "print(f\"Average Character - {round(df['q1_len'].mean(),2)}\")\n",
    "sns.distplot(df['q1_len'])"
   ]
  },
  {
   "cell_type": "code",
   "execution_count": 29,
   "id": "8afbff98",
   "metadata": {},
   "outputs": [
    {
     "name": "stdout",
     "output_type": "stream",
     "text": [
      "Minimum Character - 5\n",
      "Maximum Character - 1151\n",
      "Average Character - 60.21\n"
     ]
    },
    {
     "data": {
      "text/plain": [
       "<AxesSubplot: xlabel='q2_len', ylabel='Density'>"
      ]
     },
     "execution_count": 29,
     "metadata": {},
     "output_type": "execute_result"
    },
    {
     "data": {
      "image/png": "[encoded data removed]",
      "text/plain": [
       "<Figure size 640x480 with 1 Axes>"
      ]
     },
     "metadata": {},
     "output_type": "display_data"
    }
   ],
   "source": [
    "print(f\"Minimum Character - {df['q2_len'].min()}\")\n",
    "print(f\"Maximum Character - {df['q2_len'].max()}\")\n",
    "print(f\"Average Character - {round(df['q2_len'].mean(),2)}\")\n",
    "sns.distplot(df['q2_len'])"
   ]
  },
  {
   "cell_type": "code",
   "execution_count": 30,
   "id": "1ecc1745",
   "metadata": {},
   "outputs": [
    {
     "name": "stdout",
     "output_type": "stream",
     "text": [
      "Minimum Character - 1\n",
      "Maximum Character - 61\n",
      "Average Character - 10.92\n"
     ]
    },
    {
     "data": {
      "text/plain": [
       "<AxesSubplot: xlabel='q1_num_words', ylabel='Density'>"
      ]
     },
     "execution_count": 30,
     "metadata": {},
     "output_type": "execute_result"
    },
    {
     "data": {
      "image/png": "[encoded data removed]",
      "text/plain": [
       "<Figure size 640x480 with 1 Axes>"
      ]
     },
     "metadata": {},
     "output_type": "display_data"
    }
   ],
   "source": [
    "print(f\"Minimum Character - {df['q1_num_words'].min()}\")\n",
    "print(f\"Maximum Character - {df['q1_num_words'].max()}\")\n",
    "print(f\"Average Character - {round(df['q1_num_words'].mean(),2)}\")\n",
    "sns.distplot(df['q1_num_words'])"
   ]
  },
  {
   "cell_type": "code",
   "execution_count": 31,
   "id": "1318ac22",
   "metadata": {},
   "outputs": [
    {
     "name": "stdout",
     "output_type": "stream",
     "text": [
      "Minimum Character - 1\n",
      "Maximum Character - 237\n",
      "Average Character - 11.21\n"
     ]
    },
    {
     "data": {
      "text/plain": [
       "<AxesSubplot: xlabel='q2_num_words', ylabel='Density'>"
      ]
     },
     "execution_count": 31,
     "metadata": {},
     "output_type": "execute_result"
    },
    {
     "data": {
      "image/png": "[encoded data removed]",
      "text/plain": [
       "<Figure size 640x480 with 1 Axes>"
      ]
     },
     "metadata": {},
     "output_type": "display_data"
    }
   ],
   "source": [
    "print(f\"Minimum Character - {df['q2_num_words'].min()}\")\n",
    "print(f\"Maximum Character - {df['q2_num_words'].max()}\")\n",
    "print(f\"Average Character - {round(df['q2_num_words'].mean(),2)}\")\n",
    "sns.distplot(df['q2_num_words'])"
   ]
  },
  {
   "cell_type": "code",
   "execution_count": 32,
   "id": "45d1288f",
   "metadata": {},
   "outputs": [
    {
     "data": {
      "text/html": [
       "<div>\n",
       "<style scoped>\n",
       "    .dataframe tbody tr th:only-of-type {\n",
       "        vertical-align: middle;\n",
       "    }\n",
       "\n",
       "    .dataframe tbody tr th {\n",
       "        vertical-align: top;\n",
       "    }\n",
       "\n",
       "    .dataframe thead th {\n",
       "        text-align: right;\n",
       "    }\n",
       "</style>\n",
       "<table border=\"1\" class=\"dataframe\">\n",
       "  <thead>\n",
       "    <tr style=\"text-align: right;\">\n",
       "      <th></th>\n",
       "      <th>id</th>\n",
       "      <th>qid1</th>\n",
       "      <th>qid2</th>\n",
       "      <th>question1</th>\n",
       "      <th>question2</th>\n",
       "      <th>is_duplicate</th>\n",
       "      <th>q1_len</th>\n",
       "      <th>q2_len</th>\n",
       "      <th>q1_num_words</th>\n",
       "      <th>q2_num_words</th>\n",
       "      <th>common_word</th>\n",
       "      <th>word_total</th>\n",
       "      <th>word_share</th>\n",
       "    </tr>\n",
       "  </thead>\n",
       "  <tbody>\n",
       "    <tr>\n",
       "      <th>10499</th>\n",
       "      <td>10499</td>\n",
       "      <td>20330</td>\n",
       "      <td>20331</td>\n",
       "      <td>What does matrix multiplication do?</td>\n",
       "      <td>Linear Algebra: Why is matrix multiplication d...</td>\n",
       "      <td>0</td>\n",
       "      <td>35</td>\n",
       "      <td>67</td>\n",
       "      <td>5</td>\n",
       "      <td>11</td>\n",
       "      <td>2</td>\n",
       "      <td>16</td>\n",
       "      <td>0.12</td>\n",
       "    </tr>\n",
       "    <tr>\n",
       "      <th>341040</th>\n",
       "      <td>341040</td>\n",
       "      <td>93694</td>\n",
       "      <td>358272</td>\n",
       "      <td>What data science and machine learning career ...</td>\n",
       "      <td>What data science and machine learning career ...</td>\n",
       "      <td>0</td>\n",
       "      <td>80</td>\n",
       "      <td>80</td>\n",
       "      <td>12</td>\n",
       "      <td>12</td>\n",
       "      <td>11</td>\n",
       "      <td>24</td>\n",
       "      <td>0.46</td>\n",
       "    </tr>\n",
       "    <tr>\n",
       "      <th>6794</th>\n",
       "      <td>6794</td>\n",
       "      <td>13296</td>\n",
       "      <td>13297</td>\n",
       "      <td>What is the best way to get back into web appl...</td>\n",
       "      <td>How should I start with the basics of web pene...</td>\n",
       "      <td>0</td>\n",
       "      <td>74</td>\n",
       "      <td>62</td>\n",
       "      <td>13</td>\n",
       "      <td>11</td>\n",
       "      <td>4</td>\n",
       "      <td>24</td>\n",
       "      <td>0.17</td>\n",
       "    </tr>\n",
       "    <tr>\n",
       "      <th>106158</th>\n",
       "      <td>106158</td>\n",
       "      <td>174921</td>\n",
       "      <td>174922</td>\n",
       "      <td>How will Hurricane Matthew's impact on Florida...</td>\n",
       "      <td>Will Hurricane Matthew impact the 2016 preside...</td>\n",
       "      <td>1</td>\n",
       "      <td>130</td>\n",
       "      <td>61</td>\n",
       "      <td>18</td>\n",
       "      <td>8</td>\n",
       "      <td>7</td>\n",
       "      <td>26</td>\n",
       "      <td>0.27</td>\n",
       "    </tr>\n",
       "    <tr>\n",
       "      <th>233220</th>\n",
       "      <td>233220</td>\n",
       "      <td>129190</td>\n",
       "      <td>82461</td>\n",
       "      <td>What is one thing you would never change about...</td>\n",
       "      <td>If there is one thing you could change about y...</td>\n",
       "      <td>0</td>\n",
       "      <td>56</td>\n",
       "      <td>76</td>\n",
       "      <td>10</td>\n",
       "      <td>15</td>\n",
       "      <td>8</td>\n",
       "      <td>25</td>\n",
       "      <td>0.32</td>\n",
       "    </tr>\n",
       "  </tbody>\n",
       "</table>\n",
       "</div>"
      ],
      "text/plain": [
       "            id    qid1    qid2  \\\n",
       "10499    10499   20330   20331   \n",
       "341040  341040   93694  358272   \n",
       "6794      6794   13296   13297   \n",
       "106158  106158  174921  174922   \n",
       "233220  233220  129190   82461   \n",
       "\n",
       "                                                question1  \\\n",
       "10499                 What does matrix multiplication do?   \n",
       "341040  What data science and machine learning career ...   \n",
       "6794    What is the best way to get back into web appl...   \n",
       "106158  How will Hurricane Matthew's impact on Florida...   \n",
       "233220  What is one thing you would never change about...   \n",
       "\n",
       "                                                question2  is_duplicate  \\\n",
       "10499   Linear Algebra: Why is matrix multiplication d...             0   \n",
       "341040  What data science and machine learning career ...             0   \n",
       "6794    How should I start with the basics of web pene...             0   \n",
       "106158  Will Hurricane Matthew impact the 2016 preside...             1   \n",
       "233220  If there is one thing you could change about y...             0   \n",
       "\n",
       "        q1_len  q2_len  q1_num_words  q2_num_words  common_word  word_total  \\\n",
       "10499       35      67             5            11            2          16   \n",
       "341040      80      80            12            12           11          24   \n",
       "6794        74      62            13            11            4          24   \n",
       "106158     130      61            18             8            7          26   \n",
       "233220      56      76            10            15            8          25   \n",
       "\n",
       "        word_share  \n",
       "10499         0.12  \n",
       "341040        0.46  \n",
       "6794          0.17  \n",
       "106158        0.27  \n",
       "233220        0.32  "
      ]
     },
     "execution_count": 32,
     "metadata": {},
     "output_type": "execute_result"
    }
   ],
   "source": [
    "df.head()"
   ]
  },
  {
   "cell_type": "code",
   "execution_count": 34,
   "id": "913db0fd",
   "metadata": {},
   "outputs": [
    {
     "data": {
      "image/png": "[encoded data removed]",
      "text/plain": [
       "<Figure size 640x480 with 1 Axes>"
      ]
     },
     "metadata": {},
     "output_type": "display_data"
    }
   ],
   "source": [
    "# common words\n",
    "sns.distplot(df[df['is_duplicate'] == 0]['common_word'],label='non duplicate')\n",
    "sns.distplot(df[df['is_duplicate'] == 1]['common_word'],label='duplicate')\n",
    "plt.legend()\n",
    "plt.show()"
   ]
  },
  {
   "cell_type": "code",
   "execution_count": 36,
   "id": "7bb694aa",
   "metadata": {},
   "outputs": [
    {
     "data": {
      "image/png": "[encoded data removed]",
      "text/plain": [
       "<Figure size 640x480 with 1 Axes>"
      ]
     },
     "metadata": {},
     "output_type": "display_data"
    }
   ],
   "source": [
    "# common words\n",
    "sns.distplot(df[df['is_duplicate'] == 0]['word_total'],label='non duplicate')\n",
    "sns.distplot(df[df['is_duplicate'] == 1]['word_total'],label='duplicate')\n",
    "plt.legend()\n",
    "plt.show()"
   ]
  },
  {
   "cell_type": "code",
   "execution_count": 37,
   "id": "2feaa6a8",
   "metadata": {},
   "outputs": [
    {
     "data": {
      "image/png": "[encoded data removed]",
      "text/plain": [
       "<Figure size 640x480 with 1 Axes>"
      ]
     },
     "metadata": {},
     "output_type": "display_data"
    }
   ],
   "source": [
    "# common words\n",
    "sns.distplot(df[df['is_duplicate'] == 0]['word_share'],label='non duplicate')\n",
    "sns.distplot(df[df['is_duplicate'] == 1]['word_share'],label='duplicate')\n",
    "plt.legend()\n",
    "plt.show()"
   ]
  },
  {
   "cell_type": "code",
   "execution_count": 38,
   "id": "aa3c7237",
   "metadata": {},
   "outputs": [
    {
     "data": {
      "text/html": [
       "<div>\n",
       "<style scoped>\n",
       "    .dataframe tbody tr th:only-of-type {\n",
       "        vertical-align: middle;\n",
       "    }\n",
       "\n",
       "    .dataframe tbody tr th {\n",
       "        vertical-align: top;\n",
       "    }\n",
       "\n",
       "    .dataframe thead th {\n",
       "        text-align: right;\n",
       "    }\n",
       "</style>\n",
       "<table border=\"1\" class=\"dataframe\">\n",
       "  <thead>\n",
       "    <tr style=\"text-align: right;\">\n",
       "      <th></th>\n",
       "      <th>question1</th>\n",
       "      <th>question2</th>\n",
       "    </tr>\n",
       "  </thead>\n",
       "  <tbody>\n",
       "    <tr>\n",
       "      <th>10499</th>\n",
       "      <td>What does matrix multiplication do?</td>\n",
       "      <td>Linear Algebra: Why is matrix multiplication d...</td>\n",
       "    </tr>\n",
       "    <tr>\n",
       "      <th>341040</th>\n",
       "      <td>What data science and machine learning career ...</td>\n",
       "      <td>What data science and machine learning career ...</td>\n",
       "    </tr>\n",
       "    <tr>\n",
       "      <th>6794</th>\n",
       "      <td>What is the best way to get back into web appl...</td>\n",
       "      <td>How should I start with the basics of web pene...</td>\n",
       "    </tr>\n",
       "    <tr>\n",
       "      <th>106158</th>\n",
       "      <td>How will Hurricane Matthew's impact on Florida...</td>\n",
       "      <td>Will Hurricane Matthew impact the 2016 preside...</td>\n",
       "    </tr>\n",
       "    <tr>\n",
       "      <th>233220</th>\n",
       "      <td>What is one thing you would never change about...</td>\n",
       "      <td>If there is one thing you could change about y...</td>\n",
       "    </tr>\n",
       "  </tbody>\n",
       "</table>\n",
       "</div>"
      ],
      "text/plain": [
       "                                                question1  \\\n",
       "10499                 What does matrix multiplication do?   \n",
       "341040  What data science and machine learning career ...   \n",
       "6794    What is the best way to get back into web appl...   \n",
       "106158  How will Hurricane Matthew's impact on Florida...   \n",
       "233220  What is one thing you would never change about...   \n",
       "\n",
       "                                                question2  \n",
       "10499   Linear Algebra: Why is matrix multiplication d...  \n",
       "341040  What data science and machine learning career ...  \n",
       "6794    How should I start with the basics of web pene...  \n",
       "106158  Will Hurricane Matthew impact the 2016 preside...  \n",
       "233220  If there is one thing you could change about y...  "
      ]
     },
     "execution_count": 38,
     "metadata": {},
     "output_type": "execute_result"
    }
   ],
   "source": [
    "ques_df = df[['question1','question2']]\n",
    "ques_df.head()"
   ]
  },
  {
   "cell_type": "code",
   "execution_count": 41,
   "id": "818583c0",
   "metadata": {},
   "outputs": [
    {
     "data": {
      "text/plain": [
       "Index(['id', 'qid1', 'qid2', 'question1', 'question2', 'is_duplicate',\n",
       "       'q1_len', 'q2_len', 'q1_num_words', 'q2_num_words', 'common_word',\n",
       "       'word_total', 'word_share'],\n",
       "      dtype='object')"
      ]
     },
     "execution_count": 41,
     "metadata": {},
     "output_type": "execute_result"
    }
   ],
   "source": [
    "df.columns"
   ]
  },
  {
   "cell_type": "code",
   "execution_count": 42,
   "id": "2ea75ef8",
   "metadata": {},
   "outputs": [
    {
     "data": {
      "text/html": [
       "<div>\n",
       "<style scoped>\n",
       "    .dataframe tbody tr th:only-of-type {\n",
       "        vertical-align: middle;\n",
       "    }\n",
       "\n",
       "    .dataframe tbody tr th {\n",
       "        vertical-align: top;\n",
       "    }\n",
       "\n",
       "    .dataframe thead th {\n",
       "        text-align: right;\n",
       "    }\n",
       "</style>\n",
       "<table border=\"1\" class=\"dataframe\">\n",
       "  <thead>\n",
       "    <tr style=\"text-align: right;\">\n",
       "      <th></th>\n",
       "      <th>is_duplicate</th>\n",
       "      <th>q1_len</th>\n",
       "      <th>q2_len</th>\n",
       "      <th>q1_num_words</th>\n",
       "      <th>q2_num_words</th>\n",
       "      <th>common_word</th>\n",
       "      <th>word_total</th>\n",
       "      <th>word_share</th>\n",
       "    </tr>\n",
       "  </thead>\n",
       "  <tbody>\n",
       "    <tr>\n",
       "      <th>10499</th>\n",
       "      <td>0</td>\n",
       "      <td>35</td>\n",
       "      <td>67</td>\n",
       "      <td>5</td>\n",
       "      <td>11</td>\n",
       "      <td>2</td>\n",
       "      <td>16</td>\n",
       "      <td>0.12</td>\n",
       "    </tr>\n",
       "    <tr>\n",
       "      <th>341040</th>\n",
       "      <td>0</td>\n",
       "      <td>80</td>\n",
       "      <td>80</td>\n",
       "      <td>12</td>\n",
       "      <td>12</td>\n",
       "      <td>11</td>\n",
       "      <td>24</td>\n",
       "      <td>0.46</td>\n",
       "    </tr>\n",
       "    <tr>\n",
       "      <th>6794</th>\n",
       "      <td>0</td>\n",
       "      <td>74</td>\n",
       "      <td>62</td>\n",
       "      <td>13</td>\n",
       "      <td>11</td>\n",
       "      <td>4</td>\n",
       "      <td>24</td>\n",
       "      <td>0.17</td>\n",
       "    </tr>\n",
       "    <tr>\n",
       "      <th>106158</th>\n",
       "      <td>1</td>\n",
       "      <td>130</td>\n",
       "      <td>61</td>\n",
       "      <td>18</td>\n",
       "      <td>8</td>\n",
       "      <td>7</td>\n",
       "      <td>26</td>\n",
       "      <td>0.27</td>\n",
       "    </tr>\n",
       "    <tr>\n",
       "      <th>233220</th>\n",
       "      <td>0</td>\n",
       "      <td>56</td>\n",
       "      <td>76</td>\n",
       "      <td>10</td>\n",
       "      <td>15</td>\n",
       "      <td>8</td>\n",
       "      <td>25</td>\n",
       "      <td>0.32</td>\n",
       "    </tr>\n",
       "  </tbody>\n",
       "</table>\n",
       "</div>"
      ],
      "text/plain": [
       "        is_duplicate  q1_len  q2_len  q1_num_words  q2_num_words  common_word  \\\n",
       "10499              0      35      67             5            11            2   \n",
       "341040             0      80      80            12            12           11   \n",
       "6794               0      74      62            13            11            4   \n",
       "106158             1     130      61            18             8            7   \n",
       "233220             0      56      76            10            15            8   \n",
       "\n",
       "        word_total  word_share  \n",
       "10499           16        0.12  \n",
       "341040          24        0.46  \n",
       "6794            24        0.17  \n",
       "106158          26        0.27  \n",
       "233220          25        0.32  "
      ]
     },
     "execution_count": 42,
     "metadata": {},
     "output_type": "execute_result"
    }
   ],
   "source": [
    "final_df = df.drop(columns=['id', 'qid1', 'qid2', 'question1', 'question2'])\n",
    "final_df.head()"
   ]
  },
  {
   "cell_type": "code",
   "execution_count": 43,
   "id": "b540554d",
   "metadata": {},
   "outputs": [],
   "source": [
    "from sklearn.feature_extraction.text import CountVectorizer\n",
    "# merge texts\n",
    "questions = list(ques_df['question1']) + list(ques_df['question2'])\n",
    "\n",
    "cv = CountVectorizer(max_features=3000)\n",
    "q1_arr, q2_arr = np.vsplit(cv.fit_transform(questions).toarray(),2)"
   ]
  },
  {
   "cell_type": "code",
   "execution_count": 45,
   "id": "643ba1a9",
   "metadata": {},
   "outputs": [
    {
     "data": {
      "text/plain": [
       "(30000, 6000)"
      ]
     },
     "execution_count": 45,
     "metadata": {},
     "output_type": "execute_result"
    }
   ],
   "source": [
    "temp_df1 = pd.DataFrame(q1_arr, index= ques_df.index)\n",
    "temp_df2 = pd.DataFrame(q2_arr, index= ques_df.index)\n",
    "temp_df = pd.concat([temp_df1, temp_df2], axis=1)\n",
    "temp_df.shape"
   ]
  },
  {
   "cell_type": "code",
   "execution_count": 46,
   "id": "89d6b678",
   "metadata": {},
   "outputs": [],
   "source": [
    "from sklearn.model_selection import train_test_split\n",
    "X_train,X_test,y_train,y_test = train_test_split(final_df.iloc[:,1:].values,final_df.iloc[:,0].values,test_size=0.2,random_state=1)"
   ]
  },
  {
   "cell_type": "code",
   "execution_count": 47,
   "id": "7a905eb0",
   "metadata": {},
   "outputs": [
    {
     "data": {
      "text/plain": [
       "0.676"
      ]
     },
     "execution_count": 47,
     "metadata": {},
     "output_type": "execute_result"
    }
   ],
   "source": [
    "from sklearn.ensemble import RandomForestClassifier\n",
    "from sklearn.metrics import accuracy_score\n",
    "rf = RandomForestClassifier()\n",
    "rf.fit(X_train,y_train)\n",
    "y_pred = rf.predict(X_test)\n",
    "accuracy_score(y_test,y_pred)"
   ]
  },
  {
   "cell_type": "code",
   "execution_count": 48,
   "id": "21c67efd",
   "metadata": {},
   "outputs": [
    {
     "data": {
      "text/plain": [
       "0.7015"
      ]
     },
     "execution_count": 48,
     "metadata": {},
     "output_type": "execute_result"
    }
   ],
   "source": [
    "from xgboost import XGBClassifier\n",
    "xgb = XGBClassifier()\n",
    "xgb.fit(X_train,y_train)\n",
    "y_pred = xgb.predict(X_test)\n",
    "accuracy_score(y_test,y_pred)"
   ]
  }
 ],
 "metadata": {
  "kernelspec": {
   "display_name": "Python 3 (ipykernel)",
   "language": "python",
   "name": "python3"
  },
  "language_info": {
   "codemirror_mode": {
    "name": "ipython",
    "version": 3
   },
   "file_extension": ".py",
   "mimetype": "text/x-python",
   "name": "python",
   "nbconvert_exporter": "python",
   "pygments_lexer": "ipython3",
   "version": "3.11.1"
  }
 },
 "nbformat": 4,
 "nbformat_minor": 5
}
